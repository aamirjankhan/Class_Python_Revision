{
 "cells": [
  {
   "cell_type": "code",
   "execution_count": 45,
   "metadata": {},
   "outputs": [
    {
     "name": "stdout",
     "output_type": "stream",
     "text": [
      "enter your marks: 78\n",
      "78\n",
      "Your grade is C\n"
     ]
    }
   ],
   "source": [
    "marks=int(input('enter your marks: '))\n",
    "print(marks)\n",
    "if marks >= 90 and marks < 100:\n",
    "    print('Your grade is A')\n",
    "elif marks >= 80 and marks < 90:\n",
    "    print('Your grade is B')\n",
    "elif marks >= 70 and marks < 80:\n",
    "    print('Your grade is C')\n",
    "elif marks >= 60 and marks < 70:\n",
    "    print('Your grade is D')\n",
    "else:\n",
    "    print('Your grade is E')"
   ]
  },
  {
   "cell_type": "markdown",
   "metadata": {},
   "source": [
    "# correct code"
   ]
  },
  {
   "cell_type": "code",
   "execution_count": 23,
   "metadata": {},
   "outputs": [
    {
     "name": "stdout",
     "output_type": "stream",
     "text": [
      "enter purchase day: sunday\n",
      "enter purchase time: 9\n",
      "is your DVD scratched True or False: True\n",
      "please enter number of days you kept this book: 5\n",
      "with 30% discount, overdue and scratched penalty your amount is: $8.565000000000001\n"
     ]
    }
   ],
   "source": [
    "purchase_day=input('enter purchase day: ')\n",
    "return_time=int(input('enter purchase time: '))\n",
    "days_kept=0\n",
    "rent=1.59\n",
    "charge=0\n",
    "is_scratched = ''\n",
    "if purchase_day == 'sunday':\n",
    "    is_scratched = input('is your DVD scratched True or False: ')\n",
    "    if is_scratched == 'True':\n",
    "        days_kept=int(input('please enter number of days you kept this book: '))\n",
    "        charge=float(rent*days_kept)\n",
    "        charge=charge-(0.3*charge)\n",
    "        if return_time > 8:\n",
    "            print('with 30% discount, overdue and scratched penalty your amount is: '+'$'+str(charge + 2.0 + 1.0))\n",
    "        else:\n",
    "            print('with 30% discount your amount is: '+'$'+str(charge))\n",
    "    else:\n",
    "        days_kept=int(input('please enter number of days you kept this book: '))\n",
    "        charge=float(rent*days_kept)\n",
    "        charge=charge-(0.3*charge)\n",
    "        if return_time > 8:\n",
    "            print('with 30% discount and overdue your amount is: '+'$'+str(charge + 2.0))\n",
    "        else:\n",
    "            print('with 30% discount your amount is: '+'$'+str(charge))\n",
    "elif purchase_day == 'thursday':\n",
    "    is_scratched=input('is your DVD scratched True or False: ')\n",
    "    if is_scratched == 'True':\n",
    "        days_kept=int(input('please enter number of days you kept this book: '))\n",
    "        charge=float(rent*days_kept)\n",
    "        charge=charge-(0.5*charge)\n",
    "        if return_time > 8:\n",
    "            print('with 50% discount, overdue and scratched penalty your amount is: '+'$'+str(charge + 2.0 + 1.0))\n",
    "        else:\n",
    "            print('with 50% discount your amount is: '+'$'+str(charge))\n",
    "    else:\n",
    "        days_kept=int(input('please enter number of days you kept this book: '))\n",
    "        charge=float(rent*days_kept)\n",
    "        charge=charge-(0.5*charge)\n",
    "        if return_time > 8:\n",
    "            print('with 50% discount and overdue your amount is: '+'$'+str(charge + 2.0))\n",
    "        else:\n",
    "            print('with 50% discount your amount is: '+'$'+str(charge))\n",
    "else:\n",
    "    is_scratched=input('is your DVD scratched True or False: ')\n",
    "    if is_scratched == 'True':\n",
    "        days_kept=int(input('please enter number of days you kept this book: '))\n",
    "        charge=float(rent*days_kept)\n",
    "        if return_time > 8:\n",
    "            print('with overdue and scratched penalty your amount is: '+'$'+str(charge + 2.0 + 1.0))\n",
    "        else:\n",
    "            print('your amont is: '+'$'+str(charge))\n",
    "    else:\n",
    "        days_kept=int(input('please enter number of days you kept this book: '))\n",
    "        charge=float(rent*days_kept)\n",
    "        if return_time > 8:\n",
    "            print('with overdue your amount is: '+'$'+str(charge + 2.0))\n",
    "        else:\n",
    "            print('your amont is: '+'$'+str(charge))"
   ]
  },
  {
   "cell_type": "code",
   "execution_count": 43,
   "metadata": {},
   "outputs": [
    {
     "name": "stdout",
     "output_type": "stream",
     "text": [
      "[4, 7, 3, 8, 1, 2, 6, 9, 5, 0]\n",
      "found\n",
      "index = 6\n"
     ]
    }
   ],
   "source": [
    "import random\n",
    "lst = [x for x in range(10)]\n",
    "lst = random.sample(population=lst , k=10)\n",
    "print(lst)\n",
    "count=0\n",
    "while count < 10:\n",
    "    if lst[count] == 6: \n",
    "        print('found')\n",
    "        print('index = '+str(count))\n",
    "        break\n",
    "    count += 1"
   ]
  },
  {
   "cell_type": "code",
   "execution_count": 49,
   "metadata": {},
   "outputs": [
    {
     "name": "stdout",
     "output_type": "stream",
     "text": [
      "{'age': 20,\n",
      " 'class': 'PIAIC',\n",
      " 'experience': {'endYear': 2019, 'startYear': 2018},\n",
      " 'name': 'Aamir Jan Khan',\n",
      " 'skills': ['Python', 'c++', 'c#']}\n",
      "2018\n"
     ]
    }
   ],
   "source": [
    "from pprint import pprint\n",
    "personData={\n",
    "    'name':'Aamir Jan Khan',\n",
    "    'age' : 20,\n",
    "    'class' : 'PIAIC',\n",
    "    'skills': ['Python','c++','c#'],\n",
    "    'experience' : {\n",
    "        'startYear':2018,\n",
    "        'endYear':2019\n",
    "    }\n",
    "}\n",
    "pprint(personData)\n",
    "print(personData['experience']['startYear'])"
   ]
  },
  {
   "cell_type": "code",
   "execution_count": 59,
   "metadata": {},
   "outputs": [
    {
     "name": "stdout",
     "output_type": "stream",
     "text": [
      "Enter your name: Aamir\n",
      "enter your marks: 90\n",
      "enter your subject: Biology\n",
      "enter your marks: 80\n",
      "enter your subject: Math\n",
      "enter your marks: 100\n",
      "enter your subject: Computer\n",
      "enter hobby: Travelling\n",
      "enter hobby: Eating\n",
      "enter hobby: Gardening\n",
      "press x to exit: y\n",
      "Enter your name: Abdullah\n",
      "enter your marks: 90\n",
      "enter your subject: Math\n",
      "enter your marks: 80\n",
      "enter your subject: Biology\n",
      "enter your marks: 70\n",
      "enter your subject: Computer\n",
      "enter hobby: Gardening\n",
      "enter hobby: Coding\n",
      "enter hobby: Eating\n",
      "press x to exit: x\n",
      "[{'Hobbies': ['Gardening', 'Coding', 'Eating'],\n",
      "  'marks': {'Biology': '80', 'Computer': '70', 'Math': '90'},\n",
      "  'name': 'Abdullah'},\n",
      " {'Hobbies': ['Gardening', 'Coding', 'Eating'],\n",
      "  'marks': {'Biology': '80', 'Computer': '70', 'Math': '90'},\n",
      "  'name': 'Abdullah'}]\n"
     ]
    }
   ],
   "source": [
    "exit=''\n",
    "studentData={}\n",
    "data=[]\n",
    "while exit != 'x':\n",
    "    studentData['name']=input('Enter your name: ')\n",
    "    studentData['marks']={input('enter your subject: '):input('enter your marks: ') for i in range(3)}\n",
    "    studentData['Hobbies']=[input('enter hobby: ') for i in range(3)]\n",
    "    data.append(studentData)\n",
    "    exit = input('press x to exit: ')\n",
    "pprint(data)"
   ]
  },
  {
   "cell_type": "code",
   "execution_count": null,
   "metadata": {},
   "outputs": [],
   "source": []
  }
 ],
 "metadata": {
  "kernelspec": {
   "display_name": "Python 3",
   "language": "python",
   "name": "python3"
  },
  "language_info": {
   "codemirror_mode": {
    "name": "ipython",
    "version": 3
   },
   "file_extension": ".py",
   "mimetype": "text/x-python",
   "name": "python",
   "nbconvert_exporter": "python",
   "pygments_lexer": "ipython3",
   "version": "3.7.4"
  }
 },
 "nbformat": 4,
 "nbformat_minor": 2
}
